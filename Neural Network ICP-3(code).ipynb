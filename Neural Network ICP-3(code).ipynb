{
 "cells": [
  {
   "cell_type": "code",
   "execution_count": 2,
   "metadata": {},
   "outputs": [
    {
     "name": "stdout",
     "output_type": "stream",
     "text": [
      "avg: 4500.0\n",
      "Name:  Harika Family:  Aliza Salary:  20000 department:  Devops Engineer\n",
      "Total Employee 3\n"
     ]
    },
    {
     "data": {
      "text/plain": [
       "('Meta', None, None)"
      ]
     },
     "execution_count": 2,
     "metadata": {},
     "output_type": "execute_result"
    }
   ],
   "source": [
    "class Employee: #Employee Class\n",
    "    empCount=0 #empCount is used to keep track of number of employee objects\n",
    "    salSum=0 #salSum is used for average of salaries of the employee objects\n",
    "    def __init__(self,name,family,salary,department): #constructor for employee as per given requirements\n",
    "        self.name = name\n",
    "        self.family = family\n",
    "        self.salary = salary\n",
    "        self.department = department\n",
    "        Employee.empCount+=1\n",
    "        Employee.salSum+=self.salary\n",
    "    def avg(self): #function\n",
    "        return Employee.salSum/Employee.empCount\n",
    "    def displayCount(self): #function\n",
    "        print(\"Total Employee %d\" %Employee.empCount)\n",
    "    def displayEmployee(self): #function\n",
    "        print(\"Name: \",self.name,  \"Family: \",self.family ,  \"Salary: \",self.salary ,  \"department: \",self.department)\n",
    "emp1 = Employee(\"Akhil\", \"Aliza\", 4000, \"software\") # employee object creation\n",
    "emp2 = Employee(\"Kartheek\", \"Kumar\", 5000, \"Electrical\")\n",
    "print(\"avg:\", emp2.avg()) #calling average function\n",
    "\n",
    "class FulltimeEmployee(Employee): #FulltimeEmployee class\n",
    "    def __init__(self,name,family,salary,department,c_name): #constructor for FulltimeEmployee\n",
    "        super().__init__(name,family,salary,department)\n",
    "        self.c_name=c_name\n",
    "    def setCompany(self,c_name): #function\n",
    "        self.c_name=c_name\n",
    "    def getCompany(self): #function\n",
    "        if self.c_name not in self.c_name:\n",
    "            return \"\"\n",
    "        return self.c_name\n",
    "f_emp = FulltimeEmployee(\"Harika\", \"Aliza\", 20000, \"Devops Engineer\", \"Amazon\") #FulltimeEmployee object creation\n",
    "f_emp.setCompany(\"Meta\") #calling the member functions of FulltimeEmployee and Employee\n",
    "f_emp.getCompany(),f_emp.displayEmployee(),emp1.displayCount()"
   ]
  },
  {
   "cell_type": "code",
   "execution_count": 3,
   "metadata": {},
   "outputs": [
    {
     "name": "stdout",
     "output_type": "stream",
     "text": [
      "Random Vector:\n",
      "[ 7.69780207  5.66074058  4.54008606  0.          3.30284232  7.60930365\n",
      "  3.51307799  7.16379338  0.         11.22340668  0.          3.64837311\n",
      "  6.81821779 10.89857315 12.28936343  6.67265054  7.29035235  0.\n",
      "  5.27976064  9.05720116]\n",
      "\n",
      "Reshaped Array:\n",
      "[[ 7.69780207  5.66074058  4.54008606  0.          3.30284232]\n",
      " [ 7.60930365  3.51307799  7.16379338  0.         11.22340668]\n",
      " [ 0.          3.64837311  6.81821779 10.89857315 12.28936343]\n",
      " [ 6.67265054  7.29035235  0.          5.27976064  9.05720116]]\n"
     ]
    }
   ],
   "source": [
    "import numpy as np\n",
    "\n",
    "# Create a random vector of size 20 with float values in the range 1-20\n",
    "random_vector = np.random.uniform(1, 15, 20)\n",
    "\n",
    "# Reshape the array to 4 by 5\n",
    "reshaped_array = random_vector.reshape(4,5)\n",
    "\n",
    "# Replace the max in each row by 0(axis=1)\n",
    "reshaped_array[np.arange(4), np.argmax(reshaped_array, axis=1)] = 0\n",
    "\n",
    "print(\"Random Vector:\")\n",
    "print(random_vector)\n",
    "\n",
    "print(\"\\nReshaped Array:\")\n",
    "print(reshaped_array)"
   ]
  }
 ],
 "metadata": {
  "kernelspec": {
   "display_name": "Python 3",
   "language": "python",
   "name": "python3"
  },
  "language_info": {
   "codemirror_mode": {
    "name": "ipython",
    "version": 3
   },
   "file_extension": ".py",
   "mimetype": "text/x-python",
   "name": "python",
   "nbconvert_exporter": "python",
   "pygments_lexer": "ipython3",
   "version": "3.7.4"
  }
 },
 "nbformat": 4,
 "nbformat_minor": 2
}
